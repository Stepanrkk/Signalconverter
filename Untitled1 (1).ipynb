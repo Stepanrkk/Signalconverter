{
  "nbformat": 4,
  "nbformat_minor": 0,
  "metadata": {
    "colab": {
      "name": "Untitled1.ipynb",
      "provenance": [],
      "collapsed_sections": []
    },
    "kernelspec": {
      "name": "python3",
      "display_name": "Python 3"
    }
  },
  "cells": [
    {
      "cell_type": "code",
      "metadata": {
        "id": "TkviGckduAAg"
      },
      "source": [
        "# Вводится 5-ти значное двоичное число - сообщение\r\n",
        "\r\n",
        "import numpy as np\r\n",
        "\r\n",
        "message = np.array([1, 1, 1, 1, 1], dtype= bool)\r\n",
        "\r\n",
        "print('Введите сообщение из 5 знаков')\r\n",
        "messagestr = input()\r\n",
        "for i in range(len(messagestr)) :\r\n",
        "  if (messagestr[i] == '0') : \r\n",
        "    message[i] = 0\r\n",
        "  else :\r\n",
        "     message[i] = 1\r\n",
        "print(message)\r\n",
        "\r\n",
        "\r\n",
        "\r\n"
      ],
      "execution_count": null,
      "outputs": []
    },
    {
      "cell_type": "code",
      "metadata": {
        "id": "FnfkpwJYymP4"
      },
      "source": [
        "# Полученное сообщение кодируется кодом RM(1, 4)\r\n",
        "\r\n",
        "G = np.matrix([[1, 1, 1, 1, 1, 1, 1, 1, 1, 1, 1, 1, 1, 1, 1, 1], \r\n",
        "              [0, 0, 0, 0, 0, 0, 0, 0, 1, 1, 1, 1, 1, 1, 1, 1], \r\n",
        "              [0, 0, 0, 0, 1, 1, 1, 1, 0, 0, 0, 0, 1, 1, 1, 1], \r\n",
        "              [0, 0, 1, 1, 0, 0, 1, 1, 0, 0, 1, 1, 0, 0, 1, 1], \r\n",
        "              [0, 1, 0, 1, 0, 1, 0, 1, 0, 1, 0, 1, 0, 1, 0, 1]], dtype = bool)\r\n",
        "\r\n",
        "coded_message = np.array([1, 1, 1, 1, 1, 1, 1, 1, 1, 1, 1, 1, 1, 1, 1, 1], dtype = bool)\r\n",
        "\r\n",
        "\r\n",
        "for i in range(16) :\r\n",
        "  \r\n",
        "  x = np.logical_xor(np.logical_and(message[0], G[0, i]), np.logical_and(message[1], G[1, i]))\r\n",
        "\r\n",
        "  for j in range(2, 5) :\r\n",
        "    x = np.logical_xor(x, np.logical_and(message[j], G[j, i]))\r\n",
        "    coded_message[i] = x\r\n",
        "coded_message"
      ],
      "execution_count": null,
      "outputs": []
    },
    {
      "cell_type": "code",
      "metadata": {
        "colab": {
          "base_uri": "https://localhost:8080/"
        },
        "id": "DP9gkmm0yrkm",
        "outputId": "94022ece-0fa1-49a0-fbe4-25c6e3ab621e"
      },
      "source": [
        "# Вводится помеха в одном случайном бите\r\n",
        "\r\n",
        "broken_message = coded_message\r\n",
        "z = np.random.randint(0, 15)\r\n",
        "print(z + 1) \r\n",
        "broken_message[z] = np.logical_not(coded_message[z])\r\n",
        "broken_message"
      ],
      "execution_count": 130,
      "outputs": [
        {
          "output_type": "stream",
          "text": [
            "[ True False  True False  True False  True False False  True False  True\n",
            " False  True False  True]\n",
            "8\n"
          ],
          "name": "stdout"
        },
        {
          "output_type": "execute_result",
          "data": {
            "text/plain": [
              "array([ True, False,  True, False,  True, False,  True,  True, False,\n",
              "        True, False,  True, False,  True, False,  True])"
            ]
          },
          "metadata": {
            "tags": []
          },
          "execution_count": 130
        }
      ]
    },
    {
      "cell_type": "code",
      "metadata": {
        "colab": {
          "base_uri": "https://localhost:8080/"
        },
        "id": "mfNLsvck4buE",
        "outputId": "144a841b-5441-4849-d897-6bb12d967e1d"
      },
      "source": [
        "# Исправление ошибки\r\n",
        "\r\n",
        "Y = np.array([1, 1, 1, 1, 1, 1, 1, 1, 1, 1, 1, 1, 1, 1, 1, 1])\r\n",
        "for i in range(16):\r\n",
        "  if (coded_message[i] == False) :\r\n",
        "    Y[i] = -1\r\n",
        "YH = np.matmul(Y, hadamard(16))\r\n",
        "\r\n",
        "max = YH[1]\r\n",
        "imax = 0\r\n",
        "for i in range(1, 16) : \r\n",
        "  if (YH[i] > max) : \r\n",
        "    max = YH[i]\r\n",
        "    imax = i\r\n",
        "\r\n",
        "\r\n",
        "\r\n",
        "fixed_message = np.array([1, 1, 1, 1, 1, 1, 1, 1, 1, 1, 1, 1, 1, 1, 1, 1], dtype = bool)\r\n",
        "for i in range(16) :\r\n",
        "  if (hadamard(16)[imax, i] == -1) :\r\n",
        "    fixed_message[i] = 0\r\n",
        "\r\n",
        "# Расшифровка сообщения\r\n",
        "\r\n",
        "decoded_message = [1, 1, 1, 1, 1]\r\n",
        "decoded_message[0] = int(fixed_message[0])\r\n",
        "decoded_message[1] = int(np.logical_xor(True, fixed_message[8]))\r\n",
        "decoded_message[2] = int(np.logical_xor(True, fixed_message[4]))\r\n",
        "decoded_message[3] = int(np.logical_xor(True, fixed_message[2]))\r\n",
        "decoded_message[4] = int(np.logical_xor(True, fixed_message[1]))\r\n",
        "print(decoded_message)"
      ],
      "execution_count": 131,
      "outputs": [
        {
          "output_type": "stream",
          "text": [
            "[1, 1, 0, 0, 1]\n"
          ],
          "name": "stdout"
        }
      ]
    }
  ]
}